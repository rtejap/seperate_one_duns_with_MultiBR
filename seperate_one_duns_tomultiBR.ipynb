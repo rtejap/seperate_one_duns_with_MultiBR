{
 "cells": [
  {
   "cell_type": "code",
   "execution_count": 1,
   "metadata": {},
   "outputs": [
    {
     "data": {
      "text/html": [
       "<style>.container { width:100% !important; }</style>"
      ],
      "text/plain": [
       "<IPython.core.display.HTML object>"
      ]
     },
     "metadata": {},
     "output_type": "display_data"
    }
   ],
   "source": [
    "from IPython.display import display, HTML\n",
    "display(HTML(\"<style>.container { width:100% !important; }</style>\"))"
   ]
  },
  {
   "cell_type": "code",
   "execution_count": null,
   "metadata": {},
   "outputs": [],
   "source": [
    "import pandas as pd\n",
    "import numpy as np\n",
    "import py_entitymatching as em # install from https://pypi.org/project/py-entitymatching/\n",
    "import datetime"
   ]
  },
  {
   "cell_type": "code",
   "execution_count": null,
   "metadata": {},
   "outputs": [],
   "source": [
    "print(datetime.datetime.now())"
   ]
  },
  {
   "cell_type": "code",
   "execution_count": 2,
   "metadata": {},
   "outputs": [],
   "source": [
    "def remove(string):\n",
    "    if pd.isnull(string):\n",
    "        return np.nan\n",
    "    else:\n",
    "        return string.replace(\" \",\"\").lstrip().rstrip()\n"
   ]
  },
  {
   "cell_type": "code",
   "execution_count": 3,
   "metadata": {},
   "outputs": [],
   "source": [
    "def calc_set_intersection(text_a,text_b):\n",
    "    try:\n",
    "        text_a = str(text_a)\n",
    "        a = set(text_a.split())\n",
    "        b = set(text_b.split())\n",
    "    except:\n",
    "        print(text_a)\n",
    "        print(text_b)\n",
    "        \n",
    "    return len(a.intersection(b))*(1.0)"
   ]
  },
  {
   "cell_type": "code",
   "execution_count": null,
   "metadata": {},
   "outputs": [],
   "source": [
    "result_MultiBR = pd.read_csv(INPUT_FILE_DUNS_MULTIPLE_ENTITY_ID) # They were approx 45000 early last year\n",
    "print(result_MultiBR.shape)"
   ]
  },
  {
   "cell_type": "code",
   "execution_count": null,
   "metadata": {},
   "outputs": [],
   "source": [
    "data1 = pd.read_csv(CSV_FILE_FROM_AMY_SNOWFLAKE_CODE_PART1)\n",
    "data2 = pd.read_csv(CSV_FILE_FROM_AMY_SNOWFLAKE_CODE_PART2) # files are split as part1 and part2 because of size\n",
    "\n",
    "data = pd.concat([data1,data2],axis =0)\n",
    "\n",
    "print(data1.shape)\n",
    "print(data2.shape)\n",
    "print(data.shape)\n"
   ]
  },
  {
   "cell_type": "code",
   "execution_count": null,
   "metadata": {},
   "outputs": [],
   "source": [
    "sub = pd.read_csv(FILENAME_TRADE_UCC_SEGMENT)\n",
    "print(sub.shape)"
   ]
  },
  {
   "cell_type": "code",
   "execution_count": null,
   "metadata": {},
   "outputs": [],
   "source": [
    "sub = pd.merge(sub, result_MultiBR[['ENTITY_ID','BUSINESS_ENTITY_ID','IDENTIFICATION_NUMBER',\\\n",
    "                                   'PR_DUNS','FILING_OFFICE_STATE_ABBREVIATED_NAME']],on = 'ENTITY_ID',\\\n",
    "                                   how = 'inner',suffixes = ['_sub','_r'])\n",
    "\n",
    "print(sub.shape)\n"
   ]
  },
  {
   "cell_type": "code",
   "execution_count": null,
   "metadata": {},
   "outputs": [],
   "source": [
    "sub['in'] = sub[['BUSINESS_ENTITY_ID_sub','BUSINESS_ENTITY_ID_r']].apply(lambda row: row['BUSINESS_ENTITY_ID_sub'].astype(str) in row['BUSINESS_ENTITy_ID_r'].astype(str))"
   ]
  },
  {
   "cell_type": "code",
   "execution_count": null,
   "metadata": {},
   "outputs": [],
   "source": [
    "sub.sort_values(by = 'in')"
   ]
  },
  {
   "cell_type": "code",
   "execution_count": null,
   "metadata": {},
   "outputs": [],
   "source": [
    "data.rename(columns = {'PRIMARY_BUSINESS_NAME_GAA_B':'PRIMARY_BUSINESS_NAME_GAA_B_old',\n",
    "                       'PHYSICAL_ADDRESS_STATE__GAA_X':'PHYSICAL_ADDRESS_STATE__GAA_X_old'},inplace=True)\n"
   ]
  },
  {
   "cell_type": "code",
   "execution_count": null,
   "metadata": {},
   "outputs": [],
   "source": [
    "print(len(set(sub['BUSINESS_ENTITY_ID_r'])))\n",
    "print(len(set(data['PR_DUNS'])))\n",
    "print(data.shape)\n",
    "data = data[data['PR_DUNS'].isin(sub['BUSINESS_ENTITY_ID_r'])]\n",
    "print(data.shape)\n",
    "print(len(set(data['PR_DUNS'])))"
   ]
  },
  {
   "cell_type": "code",
   "execution_count": null,
   "metadata": {},
   "outputs": [],
   "source": [
    "data['verify'] = np.nan"
   ]
  },
  {
   "cell_type": "code",
   "execution_count": null,
   "metadata": {},
   "outputs": [],
   "source": [
    "data.rename(columns = {'PRIMARY_BUSINESS_NAME_GAA_B':'PRIMARY_BUSINESS_NAME_GAA_B'},inplace=True)\n",
    "\n",
    "data['PRIMARY_BUSINESS_NAME_GAA_B'] = data['PRIMARY_BUSINESS_NAME_GAA_B'].str.upper()\n",
    "data['PRIMARY_BUSINESS_NAME_GAA_B'] = data['PRIMARY_BUSINESS_NAME_GAA_B'].str.upper()\n"
   ]
  },
  {
   "cell_type": "code",
   "execution_count": null,
   "metadata": {},
   "outputs": [],
   "source": [
    "data['PRIMARY_BUSINESS_NAME_GAA_B'] = data['PRIMARY_BUSINESS_NAME_GAA_B'].str.upper()\n",
    "data['BUS_NAME'] = data['BUS_NAME'].str.upper()\n",
    "data['PRIMARY_BUSINESS_NAME_GAA_B'] = data['PRIMARY_BUSINESS_NAME_GAA_B'].str.upper()\n",
    "data['PRIMARY_BUSINESS_NAME_GAA_B_orig'] = data['PRIMARY_BUSINESS_NAME_GAA_B'].copy()\n"
   ]
  },
  {
   "cell_type": "code",
   "execution_count": null,
   "metadata": {},
   "outputs": [],
   "source": [
    "data['PRIMARY_BUSINESS_NAME_GAA_B'] = data['PRIMARY_BUSINESS_NAME_GAA_B'].str.replace(',','')\n",
    "data['PRIMARY_BUSINESS_NAME_GAA_B'] = data['PRIMARY_BUSINESS_NAME_GAA_B'].str.replace('.','')\n",
    "data['PRIMARY_BUSINESS_NAME_GAA_B'] = data.apply(lambda row: remove(row['PRIMARY_BUSINESS_NAME_GAA_B']),axis =1)\n",
    "\n",
    "data['BUS_NAME_temp'] = data['BUS_NAME'].str.replace(',','')\n",
    "data['BUS_NAME_temp'] = data['BUS_NAME'].str.replace('.','')\n",
    "data['BUS_NAME_temp'] = data.apply(lambda row: remove(row['BUS_NAME']),axis =1)\n"
   ]
  },
  {
   "cell_type": "code",
   "execution_count": null,
   "metadata": {},
   "outputs": [],
   "source": [
    "data.loc[(data['PRIMARY_BUSINESS_NAME_GAA_B'].notnull())\\\n",
    "         &(data['PRIMARY_BUSINESS_NAME_GAA_B'].str.contains('THE$')),'PRIMARY_BUSINESS_NAME_GAA_B'] = 'THE'+ data.loc[(data['PRIMARY_BUSINESS_NAME_GAA_B'].notnull())\\\n",
    "         &(data['PRIMARY_BUSINESS_NAME_GAA_B'].str.contains('THE$')),'PRIMARY_BUSINESS_NAME_GAA_B'].str[:-3]"
   ]
  },
  {
   "cell_type": "code",
   "execution_count": null,
   "metadata": {},
   "outputs": [],
   "source": [
    "data.loc[data['SOURCE']=='MULTI_BR','jw1a'] = data.loc[data['SOURCE']=='MULTI_BR'].apply(lambda row: em.jaro_winkler('PRIMARY_BUSINESS_NAME_GAA_B_orig','BUS_NAME'),axis = 1)\n",
    "data.loc[data['SOURCE']=='MULTI_BR','jw1b'] = data.loc[data['SOURCE']=='MULTI_BR'].apply(lambda row: em.jaro_winkler('PRIMARY_BUSINESS_NAME_GAA_B','BUS_NAME_temp'),axis = 1)"
   ]
  },
  {
   "cell_type": "code",
   "execution_count": null,
   "metadata": {},
   "outputs": [],
   "source": [
    "data_jw1b = pd.DataFrame(data.loc[(data['jw1b']==1.0)&(data['jw1a']!= 1.0)]).groupby(['PR_DUNS'])['jw1b'].count()\n",
    "data_jw1b.reset_index(drop =False,inplace=True)\n",
    "print(data_jw1b.shape)\n",
    "after_clean_duns = data_jw1b.loc[(data_jw1b['jw1b']==1),'PR_DUNS'].values\n",
    "print(data_jw1b.shape)\n"
   ]
  },
  {
   "cell_type": "code",
   "execution_count": null,
   "metadata": {},
   "outputs": [],
   "source": [
    "data.loc[(data['jw1b']!= 1.0)&(~(data['PR_DUNS'].isin(after_clean_duns))),'jw1'] = data.loc[(data['jw1b']!= 1.0)&(~(data['PR_DUNS'].isin(after_clean_duns))),['jw1a','jw1b']].max(axis = 1)\n",
    "data.loc[(data['jw1b']!= 1.0)&((data['PR_DUNS'].isin(after_clean_duns))),'jw1']  = data.loc[(data['jw1b']!= 1.0)&((data['PR_DUNS'].isin(after_clean_duns))),'jw1a']\n",
    "data.loc[(data['PR_DUNS'].isin(after_clean_duns)),'jw1'] = data.loc[(data['PR_DUNS'].isin(after_clean_duns)),['jw1a','jw1b']].max(axis = 1)"
   ]
  },
  {
   "cell_type": "code",
   "execution_count": null,
   "metadata": {},
   "outputs": [],
   "source": [
    "data.drop(columns = ['BUS_NAME_temp'],inplace=True)"
   ]
  },
  {
   "cell_type": "code",
   "execution_count": null,
   "metadata": {},
   "outputs": [],
   "source": [
    "data[['rank_jw1','rank_jw2']]= data.groupby(['PR_DUNS'])['jw1','jw1a'].rank(ascending = False)\n",
    "data['rank1'] = data.groupby(['PR_DUNS'])['jw1'].rank(ascending = False)"
   ]
  },
  {
   "cell_type": "code",
   "execution_count": null,
   "metadata": {},
   "outputs": [],
   "source": [
    "data['rank1'].value_counts()"
   ]
  },
  {
   "cell_type": "code",
   "execution_count": null,
   "metadata": {},
   "outputs": [],
   "source": [
    "data = data.sort_values(by = ['PR_DUNS','DATA_SOURCE','rank1'],ascending = [1,1,0])"
   ]
  },
  {
   "cell_type": "code",
   "execution_count": null,
   "metadata": {},
   "outputs": [],
   "source": [
    "data = data.sort_values(by = ['PR_DUNS','DATA_SOURCE','rank_jw1','rank_jw2'],ascending = [1,1,0,0])"
   ]
  },
  {
   "cell_type": "code",
   "execution_count": null,
   "metadata": {},
   "outputs": [],
   "source": [
    "data.loc[:,'commonwords'] = data[(data['PRIMARY_BUSINESS_NAME_GAA_B_orig'].notnull())&(data['BUS_NAME'].notnull())].apply(lambda row: calc_set_intersection(data['PRIMARY_BUSINESS_NAME_GAA_B_orig'],data['BUS_NAME']),axis = 1)"
   ]
  },
  {
   "cell_type": "code",
   "execution_count": null,
   "metadata": {},
   "outputs": [],
   "source": [
    "print(len(set(data['PR_DUNS'])))\n",
    "print(data[data['DATA_SOURCE']=='MULTI_BR'].shape)"
   ]
  },
  {
   "cell_type": "code",
   "execution_count": null,
   "metadata": {},
   "outputs": [],
   "source": [
    "ucc = pd.read_csv(FILE_CONTAINS_DUNS_WITH_UCC_ATTACHED)\n",
    "print(ucc.shape)"
   ]
  },
  {
   "cell_type": "code",
   "execution_count": null,
   "metadata": {},
   "outputs": [],
   "source": [
    "suits = pd.read_csv(FILE_CONTAINS_DUNS_WITH_SUITS_ATTACHED)\n",
    "print(suits.shape)"
   ]
  },
  {
   "cell_type": "code",
   "execution_count": null,
   "metadata": {},
   "outputs": [],
   "source": [
    "duns_liens_judgements = pd.read_csv(FILE_CONTAINS_DUNS_WITH_DUNS_LIENS_JUDGEMENTS_ATTACHED)\n",
    "print(duns_liens_judgements.shape)"
   ]
  },
  {
   "cell_type": "code",
   "execution_count": null,
   "metadata": {},
   "outputs": [],
   "source": [
    "bankruptcy = pd.read_csv(FILE_CONTAINS_DUNS_WITH_BANKRUPTCY_ATTACHED)\n",
    "print(bankruptcy.shape)"
   ]
  },
  {
   "cell_type": "code",
   "execution_count": null,
   "metadata": {},
   "outputs": [],
   "source": [
    "LIEN_PR_DUNS = data.loc[data['DATA_SOURCE'] == 'LIEN','PR_DUNS']\n",
    "JUDG_PR_DUNS = data.loc[data['DATA_SOURCE'] == 'JUDG','PR_DUNS']"
   ]
  },
  {
   "cell_type": "code",
   "execution_count": null,
   "metadata": {},
   "outputs": [],
   "source": [
    "## Remove duns that have bankruptcy, suits , liens , UCC\n",
    "print(data.shape)\n",
    "data = data[~data['PR_DUNS'].isin(duns_liens_judgements['PR_DUNS'])]\n",
    "data = data[~data['PR_DUNS'].isin(LIEN_PR_DUNS)]\n",
    "data = data[~data['PR_DUNS'].isin(JUDG_PR_DUNS)]\n",
    "print(data.shape)"
   ]
  },
  {
   "cell_type": "code",
   "execution_count": null,
   "metadata": {},
   "outputs": [],
   "source": [
    "print(len(set(data['PR_DUNS'])))\n",
    "print(data[data['DATA_SOURCE'] == 'MULTI_BR'].shape)"
   ]
  },
  {
   "cell_type": "code",
   "execution_count": null,
   "metadata": {},
   "outputs": [],
   "source": [
    "set(data['DATA_SOURCE'])"
   ]
  },
  {
   "cell_type": "code",
   "execution_count": null,
   "metadata": {},
   "outputs": [],
   "source": [
    "SUIT_PR_DUNS = data.loc[data['DATA_SOURCE']== 'SUIT','PR_DUNS']\n"
   ]
  },
  {
   "cell_type": "code",
   "execution_count": null,
   "metadata": {},
   "outputs": [],
   "source": [
    "print(data.shape)\n",
    "data = data[~(data['PR_DUNS'].isin(suits['BUS_DUNS_NBR']))]\n",
    "data = data[~(data['PR_DUNS'].isin(SUIT_PR_DUNS))]\n",
    "print(data.shape)"
   ]
  },
  {
   "cell_type": "code",
   "execution_count": null,
   "metadata": {},
   "outputs": [],
   "source": [
    "bankruptcy_PR_DUNS = data.loc[data['DATA_SOURCE']== 'BANKRUPTCY','PR_DUNS']\n"
   ]
  },
  {
   "cell_type": "code",
   "execution_count": null,
   "metadata": {},
   "outputs": [],
   "source": [
    "print(data.shape)\n",
    "data = data[~(data['PR_DUNS'].isin(bankruptcy['BUS_DUNS_NBR']))]\n",
    "data = data[~(data['PR_DUNS'].isin(bankruptcy_PR_DUNS))]\n",
    "print(data.shape)"
   ]
  },
  {
   "cell_type": "code",
   "execution_count": null,
   "metadata": {},
   "outputs": [],
   "source": [
    "UCC_PR_DUNS = data.loc[data['DATA_SOURCE']== 'UCC','PR_DUNS']\n"
   ]
  },
  {
   "cell_type": "code",
   "execution_count": null,
   "metadata": {},
   "outputs": [],
   "source": [
    "print(data.shape)\n",
    "data = data[~(data['PR_DUNS'].isin(ucc['BUS_DUNS_NBR']))]\n",
    "data = data[~(data['PR_DUNS'].isin(UCC_PR_DUNS))]\n",
    "print(data.shape)"
   ]
  },
  {
   "cell_type": "code",
   "execution_count": null,
   "metadata": {},
   "outputs": [],
   "source": [
    "data['shift_data']    = data['DATA_SOURCE'].shift(1)\n",
    "data['lead_bus_name'] = data.groupby(['PR_DUNS'])['BUS_NAME'].shift(1)\n",
    "data['lag_bus_name']  = data.groupby(['PR_DUNS'])['BUS_NAME'].shift(-1)"
   ]
  },
  {
   "cell_type": "code",
   "execution_count": null,
   "metadata": {},
   "outputs": [],
   "source": [
    "data[(data['shift_data']==data['DATA_SOURCE'])&(data['DATA_SOURCE'] == 'MULTi_BR')&\\\n",
    "    (data['BUS_NAME'] == data['lead_bus_name'])].shape"
   ]
  },
  {
   "cell_type": "code",
   "execution_count": null,
   "metadata": {},
   "outputs": [],
   "source": [
    "br_duns_samename_only = data[(data['shift_data']==data['DATA_SOURCE'])&(data['DATA_SOURCE'] == 'MULTi_BR')&\\\n",
    "    (data['BUS_NAME'] == data['lead_bus_name'])]\n",
    "\n",
    "print(br_duns_samename_only.shape)\n",
    "print(br_duns_samename_only[br_duns_samename_only['DATA_SOURCE']=='MULTI_BR'].shape)\n",
    "print(len(set(br_duns_samename_only['PR_DUNS'])))"
   ]
  },
  {
   "cell_type": "code",
   "execution_count": null,
   "metadata": {},
   "outputs": [],
   "source": [
    "print(len(br_duns_samename_only['PR_DUNS'])[0:15])"
   ]
  },
  {
   "cell_type": "code",
   "execution_count": null,
   "metadata": {},
   "outputs": [],
   "source": [
    "print(data.shape)\n",
    "data_same = data[data['PR_DUNS'].isin(br_duns_samename_only['PR_DUNS'])]\n",
    "print(data_same.shape)\n"
   ]
  },
  {
   "cell_type": "code",
   "execution_count": null,
   "metadata": {},
   "outputs": [],
   "source": [
    "data_same.columns"
   ]
  },
  {
   "cell_type": "code",
   "execution_count": null,
   "metadata": {},
   "outputs": [],
   "source": [
    "sum(data_same['DATA_SOURCE'].isnull())"
   ]
  },
  {
   "cell_type": "code",
   "execution_count": null,
   "metadata": {},
   "outputs": [],
   "source": [
    "data_same_duns = data_same[data_same['DATA_SOURCE']=='MULTI_BR'].groupby(['PR_DUNS'])\n",
    "data_same_duns = pd.DataFrame(data_same_duns)\n",
    "data_same_duns.reset_index(drop = False,inplace=True)\n",
    "data_same_duns.columns = ['PR_DUNS','count']"
   ]
  },
  {
   "cell_type": "code",
   "execution_count": null,
   "metadata": {},
   "outputs": [],
   "source": [
    "data_same_duns_2 = data_same_duns[data_same_duns['count']==2]\n",
    "data_same_duns_plus = data_same_duns[data_same_duns['count']>2]\n",
    "data_same_duns_plus"
   ]
  },
  {
   "cell_type": "code",
   "execution_count": null,
   "metadata": {},
   "outputs": [],
   "source": [
    "print(data.shape)\n",
    "data = data[~data['PR_DUNS'].isin(br_duns_samename_only['PR_DUNS'])]\n",
    "print(data.shape)"
   ]
  },
  {
   "cell_type": "code",
   "execution_count": null,
   "metadata": {},
   "outputs": [],
   "source": [
    "print(len(set(data['PR_DUNS'])))\n",
    "print(data[data['DATA_SOURCE']=='MULTI_BR'].shape)"
   ]
  },
  {
   "cell_type": "code",
   "execution_count": null,
   "metadata": {},
   "outputs": [],
   "source": [
    "data['rank1'].value_counts().head(50)"
   ]
  },
  {
   "cell_type": "code",
   "execution_count": null,
   "metadata": {},
   "outputs": [],
   "source": [
    "data['ACTION_FINAL'].value_counts()"
   ]
  },
  {
   "cell_type": "code",
   "execution_count": null,
   "metadata": {},
   "outputs": [],
   "source": [
    "data[['ACCT_ID','TRD_REF_NBR','SUPP_ID']] = np.nan"
   ]
  },
  {
   "cell_type": "code",
   "execution_count": null,
   "metadata": {},
   "outputs": [],
   "source": [
    "us_trade_A = pd.read_csv(TRADE_FILE_PART1) # TRADE file is split because of file size\n",
    "us_trade_B = pd.read_csv(TRADE_FILE_PART2)\n",
    "\n",
    "us_trade = pd.concat([us_trade_A,us_trade_B],axis = 0)\n",
    "print(us_trade_A.shape)\n",
    "print(us_trade_B.shape)\n",
    "print(us_trade.shape)\n",
    "\n",
    "print(us_trade.columns)\n",
    "\n",
    "cols_to_keep_trade = ['BUSINESS_DUNS_NUMBER','PRIM_NME','LN_1_ADDR','PRIM_TOWN_NME','TRD_REF_NBR','SUPP_ID'\n",
    "                     ]\n",
    "\n",
    "us_trade_short = us_trade[cols_to_keep_trade]\n",
    "\n",
    "us_trade_short.columns = ['PR_DUNS','BUS_NAME','BUS_STREET','BUS_CITY','BUS_STATE','ACCT_ID','TRD_REF_NBR','SUPP_ID']\n",
    "us_trade_short['DATA_SOURCE'] = 'TRADE'\n",
    "us_trade_short['DUNS_NUMBER_WAA_D'] = us_trade_short['PR_DUNS']\n",
    "print(us_trade_short.shape)\n",
    "\n"
   ]
  },
  {
   "cell_type": "code",
   "execution_count": null,
   "metadata": {},
   "outputs": [],
   "source": [
    "us_trade_short[['PRIMARY_BUSINESS_NAME_GAA_B','PHYSICAL_ADDRESS_STREET1_GAA_S','PHYSICAL_ADDRESS_STREET1_GAA_U',\n",
    "                'PHYSICAL_ADDRESS_CITY_GAA_W','PHYSICAL_ADDRESS_STATE__GAA_X','CEO_GAA_J','ACTION_FINAL','BUSREG_STATUS_DESP','FILG_DT','IDENTIFICATION_NUMBER','FILING_OFFICE_STATE_ABBREVIATED_NAME','AMEND_FILE_DT','AMEND_DESC','FINAL_SCORE','PR_SCORE_NORM','BR_SCORE_NORM','TRADE_SCORE_NORM','DUNS_SCORE_NORM','shift_data','lead_bus_name','lag_bus_name']] = np.nan"
   ]
  },
  {
   "cell_type": "code",
   "execution_count": null,
   "metadata": {},
   "outputs": [],
   "source": [
    "print(us_trade_short.shape)\n",
    "print(data.columns)"
   ]
  },
  {
   "cell_type": "code",
   "execution_count": null,
   "metadata": {},
   "outputs": [],
   "source": [
    "print(us_trade_short.shape)\n",
    "us_trade_short = us_trade_short[us_trade_short['PR_DUNS'].isin(data['PR_DUNS'])]\n",
    "print(us_trade_short.shape)"
   ]
  },
  {
   "cell_type": "code",
   "execution_count": null,
   "metadata": {},
   "outputs": [],
   "source": [
    "print(data.shape)\n",
    "data = pd.concat([us_trade_short,data],axis = 0)\n",
    "print(data.shape)\n"
   ]
  },
  {
   "cell_type": "code",
   "execution_count": null,
   "metadata": {},
   "outputs": [],
   "source": [
    "data.columns"
   ]
  },
  {
   "cell_type": "code",
   "execution_count": null,
   "metadata": {},
   "outputs": [],
   "source": [
    "batchmatch1 = pd.read_csv(BATCHMATCH_FILE1) ## split batchmatch files because are large\n",
    "batchmatch2 = pd.read_csv(BATCHMATCH_FILE2)\n",
    "batchmatch3 = pd.read_csv(BATCHMATCH_FILE3)\n",
    "\n",
    "batchmatch = pd.concat([batchmatch1,batchmatch2,batchmatch3],axis = 0)\n",
    "print(batchmatch1.shape)\n",
    "print(batchmatch2.shape)\n",
    "print(batchmatch3.shape)\n",
    "print(batchmatch.columns)"
   ]
  },
  {
   "cell_type": "code",
   "execution_count": null,
   "metadata": {},
   "outputs": [],
   "source": [
    "cols_to_keep = ['BUSINESS_DUNS_NUMBER','IN_NAME']"
   ]
  },
  {
   "cell_type": "code",
   "execution_count": null,
   "metadata": {},
   "outputs": [],
   "source": [
    "batchmatch_short = batchmatch['cols_to_keep']"
   ]
  },
  {
   "cell_type": "code",
   "execution_count": null,
   "metadata": {},
   "outputs": [],
   "source": [
    "batchmatch_short.columns = ['PR_DUNS','BUS_NAME']"
   ]
  },
  {
   "cell_type": "code",
   "execution_count": null,
   "metadata": {},
   "outputs": [],
   "source": [
    "batchmatch_short['DATA_SOURCE']  = 'ZBATCHMATCH'"
   ]
  },
  {
   "cell_type": "code",
   "execution_count": null,
   "metadata": {},
   "outputs": [],
   "source": [
    "batchmatch_short['DUNS_NUMBER_WAA_D'] = batchmatch_short['PR_DUNS']"
   ]
  },
  {
   "cell_type": "code",
   "execution_count": null,
   "metadata": {},
   "outputs": [],
   "source": [
    "batchmatch_short[['PHYSICAL_ADDRESS_STREET1_GAA_S','PHYSICAL_ADDRESS_STREET1_GAA_U',\n",
    "                'PHYSICAL_ADDRESS_CITY_GAA_W','PHYSICAL_ADDRESS_STATE__GAA_X','CEO_GAA_J','ACTION_FINAL','BUSREG_STATUS_DESP','FILG_DT','IDENTIFICATION_NUMBER','FILING_OFFICE_STATE_ABBREVIATED_NAME','AMEND_FILE_DT','AMEND_DESC','FINAL_SCORE','PR_SCORE_NORM','BR_SCORE_NORM','TRADE_SCORE_NORM','DUNS_SCORE_NORM','shift_data','lead_bus_name','lag_bus_name','ACCT_ID','TRD_REF_NBR','SUPP_ID']] = np.nan"
   ]
  },
  {
   "cell_type": "code",
   "execution_count": null,
   "metadata": {},
   "outputs": [],
   "source": [
    "print(batchmatch_short.shape)\n",
    "batchmatch_short = batchmatch_short[batchmatch_short['PR_DUNS'].isin(data['PR_DUNS'])]\n",
    "print(batchmatch_short.shape)\n"
   ]
  },
  {
   "cell_type": "code",
   "execution_count": null,
   "metadata": {},
   "outputs": [],
   "source": [
    "print(data.shape)\n",
    "data = pd.concat([batchmatch_short,data],axis = 0)\n",
    "print(data.shape)"
   ]
  },
  {
   "cell_type": "code",
   "execution_count": null,
   "metadata": {},
   "outputs": [],
   "source": [
    "print(len(set(data.loc[data['PR_DUNS'].notnull(),'PR_DUNS'])))"
   ]
  },
  {
   "cell_type": "code",
   "execution_count": null,
   "metadata": {},
   "outputs": [],
   "source": [
    "print(data.shape)\n",
    "data = data.sort_values(by = ['PR_DUNS','rank1'])\n",
    "print(data.shape)"
   ]
  },
  {
   "cell_type": "code",
   "execution_count": null,
   "metadata": {},
   "outputs": [],
   "source": [
    "data_good_gby = data.groupby(['PR_DUNS','DATA_SOURCE'])['jw1'].agg(['max'])\n",
    "data_good_gby.reset_index(drop = False, inplace=True)\n",
    "data_good_gby"
   ]
  },
  {
   "cell_type": "code",
   "execution_count": null,
   "metadata": {},
   "outputs": [],
   "source": [
    "print(data.shape)\n",
    "data = pd.merge(data,data_good_gby,how = 'left')\n",
    "print(data.shape)\n"
   ]
  },
  {
   "cell_type": "code",
   "execution_count": null,
   "metadata": {},
   "outputs": [],
   "source": [
    "data['match'] = data['jw1'] == data['max']"
   ]
  },
  {
   "cell_type": "code",
   "execution_count": null,
   "metadata": {},
   "outputs": [],
   "source": [
    "data_good_bronly = data.loc[data['DATA_SOURCE']=='MULTI_BR'][['PR_DUNS','BUS_NAME','rank1']]\n"
   ]
  },
  {
   "cell_type": "code",
   "execution_count": null,
   "metadata": {},
   "outputs": [],
   "source": [
    "data_good_bronly = good_good_bronly.sort_values(by = ['PR_DUNS','rank1'])\n",
    "data_good_bronly.drop(columns = 'rank1',inplace=True)"
   ]
  },
  {
   "cell_type": "code",
   "execution_count": null,
   "metadata": {},
   "outputs": [],
   "source": [
    "data_good_bronly['Br_count'] = data_good_bronly.groupby(['PR_DUNS']).cumcount()+1\n"
   ]
  },
  {
   "cell_type": "code",
   "execution_count": null,
   "metadata": {},
   "outputs": [],
   "source": [
    "data_good_bronly = data_good_bronly[data_good_bronly['PR_DUNS']! = 191919799.0]\n"
   ]
  },
  {
   "cell_type": "code",
   "execution_count": null,
   "metadata": {},
   "outputs": [],
   "source": [
    "data_good_bronly_pivot = data_good_bronly[data_good_bronly['PR_DUNS'].notnull()].pivot(index = 'PR_DUNS', coulmns = 'Br_count')"
   ]
  },
  {
   "cell_type": "code",
   "execution_count": null,
   "metadata": {},
   "outputs": [],
   "source": [
    "data_good_bronly_pivot.columns = ['BUS_NAME_'+str(cols[1])] for cols in data_good_bronly_pivot.colmns]"
   ]
  },
  {
   "cell_type": "code",
   "execution_count": null,
   "metadata": {},
   "outputs": [],
   "source": [
    "data_good_bronly_pivot.reset_index(drop = False, inplace = True)\n"
   ]
  },
  {
   "cell_type": "code",
   "execution_count": null,
   "metadata": {},
   "outputs": [],
   "source": [
    "data_good_bronly_pivot.columns\n"
   ]
  },
  {
   "cell_type": "code",
   "execution_count": null,
   "metadata": {},
   "outputs": [],
   "source": [
    "data['rank1'].value_counts().head(50)\n"
   ]
  },
  {
   "cell_type": "code",
   "execution_count": null,
   "metadata": {},
   "outputs": [],
   "source": [
    "import gc\n",
    "gc.collect()"
   ]
  },
  {
   "cell_type": "code",
   "execution_count": null,
   "metadata": {},
   "outputs": [],
   "source": [
    "data['rank1'].value_counts().head(50)\n"
   ]
  },
  {
   "cell_type": "code",
   "execution_count": null,
   "metadata": {},
   "outputs": [],
   "source": [
    "data['BUS_NAME_clean'] = data['BUS_NAME'].str.replace(',','')\n",
    "data['BUS_NAME_clean'] = data['BUS_NAME_clean'].str.replace('.','')\n",
    "\n",
    "data['BUS_NAME_1clean'] = data['BUS_NAME_1'].str.replace(',','')\n",
    "data['BUS_NAME_1clean'] = data['BUS_NAME_1clean'].str.replace('.','')\n",
    "\n",
    "\n",
    "data['BUS_NAME_2clean'] = data['BUS_NAME_2'].str.replace(',','')\n",
    "data['BUS_NAME_2clean'] = data['BUS_NAME_2clean'].str.replace('.','')"
   ]
  },
  {
   "cell_type": "code",
   "execution_count": null,
   "metadata": {},
   "outputs": [],
   "source": [
    "data.loc[:,'jw_trade1a'] = data.apply(lambda row: em.jaro_wrinkler(row['BUS_NAME_1clean'],row['BUS_NAME_clean']),axis = 1)\n",
    "data.loc[:,'jw_trade2a'] = data.apply(lambda row: em.jaro_wrinkler(row['BUS_NAME_2clean'],row['BUS_NAME_clean']),axis = 1)"
   ]
  },
  {
   "cell_type": "code",
   "execution_count": null,
   "metadata": {},
   "outputs": [],
   "source": [
    "def remove(string):\n",
    "    if pd.isnull(string):\n",
    "        return np.nan\n",
    "    else:\n",
    "        return string.replace(\" \",\"\").lstrip().rstrip()"
   ]
  },
  {
   "cell_type": "code",
   "execution_count": null,
   "metadata": {},
   "outputs": [],
   "source": [
    "data['BUS_NAME_clean_b'] = data.apply(lambda row: remove(row['BUS_NAME_clean']),axis = 1 )\n",
    "data['BUS_NAME_1clean_b'] = data.apply(lambda row: remove(row['BUS_NAME_1clean']),axis = 1 )\n",
    "data['BUS_NAME_2clean_b'] = data.apply(lambda row: remove(row['BUS_NAME_2clean']),axis = 1 )"
   ]
  },
  {
   "cell_type": "code",
   "execution_count": null,
   "metadata": {},
   "outputs": [],
   "source": [
    "data.loc[:,'jw_trade1b'] = data.apply(lambda row:em.jaro_winkler(row['BUS_NAME_1clean_b'], row['BUS_NAME_clean_b']),axis = 1)\n",
    "data.loc[:,'jw_trade2b'] = data.apply(lambda row:em.jaro_winkler(row['BUS_NAME_2clean_b'], row['BUS_NAME_clean_b']),axis = 1)\n"
   ]
  },
  {
   "cell_type": "code",
   "execution_count": null,
   "metadata": {},
   "outputs": [],
   "source": [
    "data.loc[:,'jw_trade1'] = data[['jw_trade1a', 'jw_trade1b']].max(axis= 1)\n",
    "data.loc[:,'jw_trade2'] = data[['jw_trade2a', 'jw_trade2b']].max(axis= 1)"
   ]
  },
  {
   "cell_type": "code",
   "execution_count": null,
   "metadata": {},
   "outputs": [],
   "source": [
    "data['delta_12'] = abs(data['jw_trade1']-data['jw_trade2'])\n"
   ]
  },
  {
   "cell_type": "code",
   "execution_count": null,
   "metadata": {},
   "outputs": [],
   "source": [
    "data.loc[:,['jw_trade2','jw_trade2a','jw_trade2b','BUS_NAME2clean_b','BUS_NAME2clean']].head(5)\n"
   ]
  },
  {
   "cell_type": "code",
   "execution_count": null,
   "metadata": {},
   "outputs": [],
   "source": [
    "data_good = data.copy()\n"
   ]
  },
  {
   "cell_type": "code",
   "execution_count": null,
   "metadata": {},
   "outputs": [],
   "source": [
    "data_good['rank1'].value_counts().head(50)\n"
   ]
  },
  {
   "cell_type": "code",
   "execution_count": null,
   "metadata": {},
   "outputs": [],
   "source": [
    "data_good.loc[(data_good['BUS_NAME_1'])]\n"
   ]
  },
  {
   "cell_type": "code",
   "execution_count": null,
   "metadata": {},
   "outputs": [],
   "source": [
    "data_good.loc[(data_good['BUS_NAME_1'].notnull())&\\\n",
    "              (data_good['DATA_SOURCE']== 'MULTI_BR'),'contains_1'] =  data_good.loc[(data_good['BUS_NAME_1'].notnull())&\\\n",
    "                                                                       (data_good['BUS_NAME_clean'].notnull()) &\\\n",
    "              (data_good['DATA_SOURCE']== 'MULTI_BR')].apply(lambda row: row['PRIMARY_BUSINESS_NAME_GAA_B'] in row['BUS_NAME_1cleanb'],axis = 1)\n",
    "\n",
    "\n",
    "data_good.loc[(data_good['BUS_NAME_2'].notnull())&\\\n",
    "              (data_good['DATA_SOURCE']== 'MULTI_BR'),'contains_2'] =  data_good.loc[(data_good['BUS_NAME_1'].notnull())&\\\n",
    "                                                                       (data_good['BUS_NAME_clean'].notnull()) &\\\n",
    "              (data_good['DATA_SOURCE']== 'MULTI_BR')].apply(lambda row: row['PRIMARY_BUSINESS_NAME_GAA_B'] in row['BUS_NAME_2cleanb'],axis = 1)"
   ]
  },
  {
   "cell_type": "code",
   "execution_count": null,
   "metadata": {},
   "outputs": [],
   "source": [
    "data_good.drop(columns = ['BUS_NAME_clean_b','BUS_NAME1clean_b','BUS_NAME_2clean_b'],inplace=True)\n"
   ]
  },
  {
   "cell_type": "code",
   "execution_count": null,
   "metadata": {},
   "outputs": [],
   "source": [
    "data_good.columns\n"
   ]
  },
  {
   "cell_type": "code",
   "execution_count": null,
   "metadata": {},
   "outputs": [],
   "source": [
    "data_good.drop(columns = ['jw_trade1a',\n",
    "                         'jw_trade2a', 'jw_trade1b', 'jw_trade2b'],inplace= True)"
   ]
  },
  {
   "cell_type": "code",
   "execution_count": null,
   "metadata": {},
   "outputs": [],
   "source": [
    "data_good.loc[:,'commonwords_1']= data_good[(data_good['BUS_NAME_1clean'].notnull())&(data_good['BUS_NAME_clean'].notnull())].apply(lambda row: calc_set_intersection(row['BUS_NAME_1clean'],row['BUS_NAME_clean']),axis=1)\n",
    "data_good.loc[:,'commonwords_2']= data_good[(data_good['BUS_NAME_2clean'].notnull())&(data_good['BUS_NAME_clean'].notnull())].apply(lambda row: calc_set_intersection(row['BUS_NAME_2clean'],row['BUS_NAME_clean']),axis=1)"
   ]
  },
  {
   "cell_type": "code",
   "execution_count": null,
   "metadata": {},
   "outputs": [],
   "source": [
    "data_good.loc[(data_good['BUS_NAME_1'].notnull())&\\\n",
    "              (data_good['DATA_SOURCE']!= 'MULTI_BR'),'contains_1'] =  data_good.loc[(data_good['BUS_NAME_1'].notnull())&\\\n",
    "                                                                       (data_good['BUS_NAME_clean'].notnull()) &\\\n",
    "              (data_good['DATA_SOURCE']!= 'MULTI_BR')].apply(lambda row: row['BUS_NAME_clean'] in row['BUS_NAME_1clean'],axis = 1)\n",
    "\n",
    "\n",
    "data_good.loc[(data_good['BUS_NAME_2'].notnull())&\\\n",
    "              (data_good['DATA_SOURCE']!= 'MULTI_BR'),'contains_2'] =  data_good.loc[(data_good['BUS_NAME_2'].notnull())&\\\n",
    "                                                                       (data_good['BUS_NAME_clean'].notnull()) &\\\n",
    "              (data_good['DATA_SOURCE']!= 'MULTI_BR')].apply(lambda row: row['BUS_NAME_clean'] in row['BUS_NAME_2clean'],axis = 1)\n"
   ]
  },
  {
   "cell_type": "code",
   "execution_count": null,
   "metadata": {},
   "outputs": [],
   "source": [
    "data_good.loc[data_good['contains_1'].notnull(),['DATA_SOURCE','BUS_NAME','BUS_NAME_2clean','jw_trade1','jw_trade2','contains_1','contains_2']].head(50)"
   ]
  },
  {
   "cell_type": "code",
   "execution_count": null,
   "metadata": {},
   "outputs": [],
   "source": [
    "data_good['contains_1'].fillna(0,inplace=True)\n",
    "data_good['contains_2'].fillna(0,inplace=True)\n"
   ]
  },
  {
   "cell_type": "code",
   "execution_count": null,
   "metadata": {},
   "outputs": [],
   "source": [
    "def calc_set_intersection(text_a,text_b):\n",
    "    try:\n",
    "        text_a = str(text_a)\n",
    "        a = set(text_a.split())\n",
    "        b = set(text_b.split())\n",
    "        return len(a.intersection(b))* 1.0\n",
    "    \n",
    "    except:\n",
    "        return 0\n",
    "    \n",
    "def calc_set_single(text_a,text_b):\n",
    "    \n",
    "    try:\n",
    "        text_a = \" \".join([w for w in text_a.split() if len(w) > 1])\n",
    "        text_b = \" \".join([w for w in text_b.split() if len(w) > 1])\n",
    "        \n",
    "        a = set(text_a.split())\n",
    "        b = set(text_b.split())\n",
    "        \n",
    "        return len(a.intersection(b))* 1.0\n",
    "    \n",
    "    except:\n",
    "        \n",
    "        return 0\n",
    "\n",
    "def calc_set_diff(text_a,text_b,inter):\n",
    "    \n",
    "    try:\n",
    "        \n",
    "        text_a = str(text_a)\n",
    "        text_b = str(text_b)\n",
    "        \n",
    "        a = set(text_a.split())\n",
    "        b = set(text_b.split())\n",
    "        \n",
    "        if (inter >= 1) and (len(a) >= 2) and (len(b)>= 2):\n",
    "            \n",
    "            return ' '.join([w for w in list(a-b)])\n",
    "        \n",
    "        else:\n",
    "            \n",
    "            return 'no_diff'\n",
    "    \n",
    "    except:\n",
    "        \n",
    "        return 0\n",
    "    \n",
    "\n",
    "def check_middle(diff_I,diff_R,FILG_OWN_FORMAT2,name_profile_code):\n",
    "    if (FILG_OWN_FORMAT2 != 'BN') and (name_profile_code == 0):\n",
    "        if (diff_I != 0) and (diff_R != 0):\n",
    "            if (len(diff_I)>1) & (len(diff_R) > 1):\n",
    "                \n",
    "                return diff_I == diff_R\n",
    "            \n",
    "            elif (len(diff_I)>1) | (len(diff_R) > 1):\n",
    "                \n",
    "                return diff_I[0] == diff_R[0]\n",
    "            \n",
    "            else:\n",
    "                return 2\n",
    "        \n",
    "        else:\n",
    "            \n",
    "            return 99\n",
    "    \n",
    "    else:\n",
    "        \n",
    "        return 98\n",
    "    "
   ]
  },
  {
   "cell_type": "code",
   "execution_count": null,
   "metadata": {},
   "outputs": [],
   "source": [
    "data_good['BUS_NAME_clean'] = data_good['BUS_NAME_clean'].replace(' L L C','LLC')"
   ]
  },
  {
   "cell_type": "code",
   "execution_count": null,
   "metadata": {},
   "outputs": [],
   "source": [
    "data_good.columns"
   ]
  },
  {
   "cell_type": "code",
   "execution_count": null,
   "metadata": {},
   "outputs": [],
   "source": [
    "print(datetime.datetime.now())\n",
    "data_good.loc[:,'inter0_2'] = data_good.apply(lambda row: calc_set_intersection(row['PRIMARY_BUSINESS_NAME_GAA_B_orig'],row['BUS_NAME_2clean']),axis = 1)\n",
    "print(datetime.datetime.now())\n",
    "\n",
    "\n",
    "print(datetime.datetime.now())\n",
    "data_good.loc[:,'nosingle0_2'] = data_good.apply(lambda row: calc_set_nosingle(row['PRIMARY_BUSINESS_NAME_GAA_B_orig'],row['BUS_NAME_2clean']),axis = 1)\n",
    "print(datetime.datetime.now())\n",
    "\n",
    "print(datetime.datetime.now())\n",
    "data_good.loc[:,'diff_I02'] = data_good.apply(lambda row: calc_set_diff(row['PRIMARY_BUSINESS_NAME_GAA_B_orig'],row['BUS_NAME_2clean'],row['inter0_2']),axis =1)\n",
    "print(datetime.datetime.now())\n",
    "\n",
    "print(datetime.datetime.now())\n",
    "data_good.loc[:,'diff_R02'] = data_good.apply(lambda row: calc_set_diff(row['BUS_NAME_2clean'],row['PRIMARY_BUSINESS_NAME_GAA_B_orig'],row['inter0_2']),axis = 1)\n",
    "print(datetime.datetime.now())\n",
    "\n",
    "\n",
    "print(datetime.datetime.now())\n",
    "data_good.loc[:,'inter02_02'] = data_good.apply(lambda row: calc_set_intersection(row['PRIMARY_BUSINESS_NAME_GAA_B_orig'],row['BUS_NAME_2clean']),axis = 1)\n",
    "print(datetime.datetime.now())\n",
    "\n",
    "\n",
    "print(datetime.datetime.now())\n",
    "data_good.loc[:,'diff_R02_02'] = data_good.apply(lambda row: calc_set_diff(row['BUS_NAME_2clean'],row['PRIMARY_BUSINESS_NAME_GAA_B_orig'],row['inter02_2']),axis = 1)\n",
    "print(datetime.datetime.now())"
   ]
  },
  {
   "cell_type": "code",
   "execution_count": null,
   "metadata": {},
   "outputs": [],
   "source": [
    "print(datetime.datetime.now())\n",
    "data_good.loc[:,'inter0_1'] = data_good.apply(lambda row: calc_set_intersection(row['PRIMARY_BUSINESS_NAME_GAA_B_orig'],row['BUS_NAME_1clean']),axis = 1)\n",
    "print(datetime.datetime.now())\n",
    "\n",
    "\n",
    "print(datetime.datetime.now())\n",
    "data_good.loc[:,'nosingle0_1'] = data_good.apply(lambda row: calc_set_nosingle(row['PRIMARY_BUSINESS_NAME_GAA_B_orig'],row['BUS_NAME_1clean']),axis = 1)\n",
    "print(datetime.datetime.now())\n",
    "\n",
    "print(datetime.datetime.now())\n",
    "data_good.loc[:,'diff_I01'] = data_good.apply(lambda row: calc_set_diff(row['PRIMARY_BUSINESS_NAME_GAA_B_orig'],row['BUS_NAME_1clean'],row['inter0_1']),axis =1)\n",
    "print(datetime.datetime.now())\n",
    "\n",
    "print(datetime.datetime.now())\n",
    "data_good.loc[:,'diff_R01'] = data_good.apply(lambda row: calc_set_diff(row['BUS_NAME_1clean'],row['PRIMARY_BUSINESS_NAME_GAA_B_orig'],row['inter0_1']),axis = 1)\n",
    "print(datetime.datetime.now())\n",
    "\n",
    "\n",
    "print(datetime.datetime.now())\n",
    "data_good.loc[:,'inter01_01'] = data_good.apply(lambda row: calc_set_intersection(row['PRIMARY_BUSINESS_NAME_GAA_B_orig'],row['BUS_NAME_1clean']),axis = 1)\n",
    "print(datetime.datetime.now())\n",
    "\n",
    "\n",
    "print(datetime.datetime.now())\n",
    "data_good.loc[:,'diff_R01_01'] = data_good.apply(lambda row: calc_set_diff(row['BUS_NAME_1clean'],row['PRIMARY_BUSINESS_NAME_GAA_B_orig'],row['inter01_1']),axis = 1)\n",
    "print(datetime.datetime.now())"
   ]
  },
  {
   "cell_type": "code",
   "execution_count": null,
   "metadata": {},
   "outputs": [],
   "source": [
    "print(datetime.datetime.now())\n",
    "data_good.loc[:,'inter1'] = data_good.apply(lambda row: calc_set_intersection(row['BUS_NAME_clean'],row['BUS_NAME_1clean']),axis = 1)\n",
    "print(datetime.datetime.now())\n",
    "\n",
    "\n",
    "print(datetime.datetime.now())\n",
    "data_good.loc[:,'nosingle1'] = data_good.apply(lambda row: calc_set_nosingle(row['BUS_NAME_clean'],row['BUS_NAME_1clean']),axis = 1)\n",
    "print(datetime.datetime.now())\n",
    "\n",
    "print(datetime.datetime.now())\n",
    "data_good.loc[:,'diff_I1'] = data_good.apply(lambda row: calc_set_diff(row['BUS_NAME_clean'],row['BUS_NAME_1clean'],row['inter1']),axis =1)\n",
    "print(datetime.datetime.now())\n",
    "\n",
    "print(datetime.datetime.now())\n",
    "data_good.loc[:,'diff_R1'] = data_good.apply(lambda row: calc_set_diff(row['BUS_NAME_1clean'],row['BUS_NAME_clean'],row['inter1']),axis = 1)\n",
    "print(datetime.datetime.now())\n",
    "\n",
    "\n",
    "print(datetime.datetime.now())\n",
    "data_good.loc[:,'inter2_1'] = data_good.apply(lambda row: calc_set_intersection(row['BUS_NAME_clean'],row['BUS_NAME_1clean']),axis = 1)\n",
    "print(datetime.datetime.now())\n",
    "\n",
    "\n",
    "print(datetime.datetime.now())\n",
    "data_good.loc[:,'diff_R2_1'] = data_good.apply(lambda row: calc_set_diff(row['BUS_NAME_1clean'],row['BUS_NAME_clean'],row['inter2_1']),axis = 1)\n",
    "print(datetime.datetime.now())"
   ]
  },
  {
   "cell_type": "code",
   "execution_count": null,
   "metadata": {},
   "outputs": [],
   "source": [
    "print(datetime.datetime.now())\n",
    "data_good.loc[:,'inter2'] = data_good.apply(lambda row: calc_set_intersection(row['BUS_NAME_clean'],row['BUS_NAME_2clean']),axis = 1)\n",
    "print(datetime.datetime.now())\n",
    "\n",
    "\n",
    "print(datetime.datetime.now())\n",
    "data_good.loc[:,'nosingle'] = data_good.apply(lambda row: calc_set_nosingle(row['BUS_NAME_clean'],row['BUS_NAME_2clean']),axis = 1)\n",
    "print(datetime.datetime.now())\n",
    "\n",
    "print(datetime.datetime.now())\n",
    "data_good.loc[:,'diff_I2'] = data_good.apply(lambda row: calc_set_diff(row['BUS_NAME_clean'],row['BUS_NAME_2clean'],row['inter0_1']),axis =1)\n",
    "print(datetime.datetime.now())\n",
    "\n",
    "print(datetime.datetime.now())\n",
    "data_good.loc[:,'diff_R2'] = data_good.apply(lambda row: calc_set_diff(row['BUS_NAME_2clean'],row['BUS_NAME_clean'],row['inter2']),axis = 1)\n",
    "print(datetime.datetime.now())\n",
    "\n",
    "\n",
    "print(datetime.datetime.now())\n",
    "data_good.loc[:,'inter2_2'] = data_good.apply(lambda row: calc_set_intersection(row['BUS_NAME_clean'],row['BUS_NAME_2clean']),axis = 1)\n",
    "print(datetime.datetime.now())\n",
    "\n",
    "\n",
    "print(datetime.datetime.now())\n",
    "data_good.loc[:,'diff_R2_2'] = data_good.apply(lambda row: calc_set_diff(row['BUS_NAME_2clean'],row['BUS_NAME_clean'],row['inter2_2']),axis = 1)\n",
    "print(datetime.datetime.now())"
   ]
  },
  {
   "cell_type": "code",
   "execution_count": null,
   "metadata": {},
   "outputs": [],
   "source": [
    "data_good = data_good.sort_values(by = ['PR_DUNS','DATA_SOURCE'])\n"
   ]
  },
  {
   "cell_type": "code",
   "execution_count": null,
   "metadata": {},
   "outputs": [],
   "source": [
    "print(data_good.shape)"
   ]
  },
  {
   "cell_type": "code",
   "execution_count": null,
   "metadata": {},
   "outputs": [],
   "source": [
    "print(len(set(data_good['PR_DUNS'])))"
   ]
  },
  {
   "cell_type": "code",
   "execution_count": null,
   "metadata": {},
   "outputs": [],
   "source": [
    "batch_match_gby = pd.DataFrame(data_good.groupby(['PR_DUNS','DATA_SOURCE']))['BUS_NAME'].count()\n",
    "batch_match_gby.columns = ['count']\n",
    "batch_match_gby.reset_index(drop = False,inplace=True)"
   ]
  },
  {
   "cell_type": "code",
   "execution_count": null,
   "metadata": {},
   "outputs": [],
   "source": [
    "batch_match_gby_filter = batch_match_gby.loc[(batch_match_gby['DATA_SOURCE']=='BATCHMATCH')&\\\n",
    "                                             (batch_match_gby['count']>=2),'PR_DUNS']"
   ]
  },
  {
   "cell_type": "code",
   "execution_count": null,
   "metadata": {},
   "outputs": [],
   "source": [
    "len(batch_match_gby_filter)"
   ]
  },
  {
   "cell_type": "code",
   "execution_count": null,
   "metadata": {},
   "outputs": [],
   "source": [
    "def row_wise_1(row):\n",
    "    \n",
    "    if ((row['contains_1']==True) and (row['contains_2']==True)):\n",
    "        return 0\n",
    "    \n",
    "    elif ((row['contains_1']==True) and (row['contains_2']==False)):\n",
    "        return 1\n",
    "    \n",
    "    elif row['diff_I1'] in ['I', 'II', 'III', 'IV','V','VI','VII','VIII','IX',\\\n",
    "                           'X','XI','XII','XIII','XIV','XV','XVI','XVII','XVIII',\\\n",
    "                           'XIX','XX','ONE','TWO','THREE','FOUR','FIVE',\\\n",
    "                           '1','2','3','4','5','6','7','8','9']\n",
    "        \n",
    "        return 0\n",
    "    \n",
    "    elif (row['diff_I1'] == \"\" ) & (row['diff_I2'] == \"\") &\\\n",
    "          (row['diff_R1'] in ['I', 'II', 'III', 'IV','V','VI','VII','VIII','IX',\\\n",
    "                           'X','XI','XII','XIII','XIV','XV','XVI','XVII','XVIII',\\\n",
    "                           'XIX','XX','ONE','TWO','THREE','FOUR','FIVE',\\\n",
    "                           '1','2','3','4','5','6','7','8','9']) & \\\n",
    "          (row['diff_R2'] in ['I', 'II', 'III', 'IV','V','VI','VII','VIII','IX',\\\n",
    "                           'X','XI','XII','XIII','XIV','XV','XVI','XVII','XVIII',\\\n",
    "                           'XIX','XX','ONE','TWO','THREE','FOUR','FIVE',\\\n",
    "                           '1','2','3','4','5','6','7','8','9']):\n",
    "    \n",
    "         return 0   \n",
    "    \n",
    "    elif ((row['contains_1'] == False) and (row['contains_2']== False)) and \\\n",
    "          ((row['jw_trade1'])> (row['jw_trade2'])) and (row['jw_trade1'] >0.95):\n",
    "         return 1\n",
    "    "
   ]
  },
  {
   "cell_type": "code",
   "execution_count": null,
   "metadata": {},
   "outputs": [],
   "source": [
    "def row_wise_2(row):\n",
    "    \n",
    "    if ((row['contains_1']==True) and (row['contains_2']==True)):\n",
    "        return 0\n",
    "    \n",
    "    elif ((row['contains_1']==False) and (row['contains_2']==False)):\n",
    "        return 1\n",
    "    \n",
    "    elif row['diff_I2'] in ['I', 'II', 'III', 'IV','V','VI','VII','VIII','IX',\\\n",
    "                           'X','XI','XII','XIII','XIV','XV','XVI','XVII','XVIII',\\\n",
    "                           'XIX','XX','ONE','TWO','THREE','FOUR','FIVE',\\\n",
    "                           '1','2','3','4','5','6','7','8','9']\n",
    "        \n",
    "        return 0\n",
    "    \n",
    "    elif (row['diff_I1'] == \"\" ) & (row['diff_I2'] == \"\") &\\\n",
    "          (row['diff_R1'] in ['I', 'II', 'III', 'IV','V','VI','VII','VIII','IX',\\\n",
    "                           'X','XI','XII','XIII','XIV','XV','XVI','XVII','XVIII',\\\n",
    "                           'XIX','XX','ONE','TWO','THREE','FOUR','FIVE',\\\n",
    "                           '1','2','3','4','5','6','7','8','9']) & \\\n",
    "          (row['diff_R2'] in ['I', 'II', 'III', 'IV','V','VI','VII','VIII','IX',\\\n",
    "                           'X','XI','XII','XIII','XIV','XV','XVI','XVII','XVIII',\\\n",
    "                           'XIX','XX','ONE','TWO','THREE','FOUR','FIVE',\\\n",
    "                           '1','2','3','4','5','6','7','8','9']):\n",
    "    \n",
    "         return 0 \n",
    "    \n",
    "    elif ((row['contains_1'] == False) and (row['contains_2']== False)) and \\\n",
    "          ((row['jw_trade1'])< (row['jw_trade2'])) and (row['jw_trade2'] >0.95):\n",
    "         return 1\n",
    "    \n",
    "    \n",
    "    \n",
    "    "
   ]
  },
  {
   "cell_type": "code",
   "execution_count": null,
   "metadata": {},
   "outputs": [],
   "source": [
    "data_good['final_1'] = data_good.apply(lambda row: row_wise_1(row),axis = 1)\n",
    "data_good['final_2'] = data_good.apply(lambda row: row_wise_2(row),axis = 1)\n"
   ]
  },
  {
   "cell_type": "code",
   "execution_count": null,
   "metadata": {},
   "outputs": [],
   "source": [
    "data_good['final_1'].fillna(0,inplace=True)\n",
    "data_good['final_2'].fillna(0,inplace=True)\n"
   ]
  },
  {
   "cell_type": "code",
   "execution_count": null,
   "metadata": {},
   "outputs": [],
   "source": [
    "alldata_gby = data_good[(data_good['DATA_SOURCE']!= 'MULTI_BR')].groupby(['PR_DUNS'])['final_1','final_2'].sum()\n",
    "tradedata_gby = data_good[(data_good['DATA_SOURCE']== 'TRADE')].groupby(['PR_DUNS'])['final_1','final_2'].sum()\n",
    "BATCHMATCH_gby = data_good[(data_good['DATA_SOURCE']!= 'ZBATCHMATCH')].groupby(['PR_DUNS'])['final_1','final_2'].sum()\n",
    "\n",
    "alldata_gby.reset_index(drop = False,inplace=True)\n",
    "tradedata_gby.reset_index(drop = False,inplace=True)\n",
    "BATCHMATCH_gby.reset_index(drop = False,inplace=True)"
   ]
  },
  {
   "cell_type": "code",
   "execution_count": null,
   "metadata": {},
   "outputs": [],
   "source": [
    "print(alldata_gby.shape)\n",
    "alldata_gby = pd.merge(alldata_gby,tradedata_gby, on = 'PR_DUNS', how = 'left',\\\n",
    "                      suffixes = ['','_trade'])\n",
    "\n",
    "alldata_gby = pd.merge(alldata_gby,BATCHMATCH_gby, how = 'left',\\\n",
    "                      suffixes = ['','_bm'])\n",
    "print(alldata_gby.shape)"
   ]
  },
  {
   "cell_type": "code",
   "execution_count": null,
   "metadata": {},
   "outputs": [],
   "source": [
    "alldata_gby.fillna(0,inplace=True)\n"
   ]
  },
  {
   "cell_type": "code",
   "execution_count": null,
   "metadata": {},
   "outputs": [],
   "source": [
    "alldata_gby['final_12_temp'] = alldata_gby['final_1'] - alldata_gby['final_2']\n",
    "alldata_gby['diff'] = alldata_gby['final_12_temp'].min(axis = 1)\n",
    "alldata_gby.drop(columns = ['final_12_temp'],inplace=True)"
   ]
  },
  {
   "cell_type": "code",
   "execution_count": null,
   "metadata": {},
   "outputs": [],
   "source": [
    "alldata_gby['diff'].value_counts().head(50)"
   ]
  },
  {
   "cell_type": "code",
   "execution_count": null,
   "metadata": {},
   "outputs": [],
   "source": [
    "multi_data_good = pd.DataFrame(data_good[data_good['DATA_SOURCE']=='MULTI_BR']).groupby()\n",
    "multi_data_good.reset_index(drop = False,inplace=True)\n",
    "multi_data_good.columns = ['PR_DUNS','count']\n",
    "print(multi_data_good.shape)\n",
    "multi_data_good_all = multi_data_good.copy()\n",
    "multi_data_good = multi_data_good[multi_data_good['count']==2]\n",
    "print(multi_data_good.shape)"
   ]
  },
  {
   "cell_type": "code",
   "execution_count": null,
   "metadata": {},
   "outputs": [],
   "source": []
  },
  {
   "cell_type": "code",
   "execution_count": null,
   "metadata": {},
   "outputs": [],
   "source": [
    "multi_data_good_all['count'].value_counts()"
   ]
  },
  {
   "cell_type": "code",
   "execution_count": null,
   "metadata": {},
   "outputs": [],
   "source": [
    "DELINQUENT_duns = set((data_good[(data_good['DATA_SOURCE']=='MULTI_BR')&(data_good['BUS_NAME'].str.contains('DELINQUENT')),'PR_DUNS'])\n",
    "print(len(DELINQUENT_duns))"
   ]
  },
  {
   "cell_type": "code",
   "execution_count": null,
   "metadata": {},
   "outputs": [],
   "source": [
    "unresolved_duns1 = set(data_good.loc[(data_good['DATA_SOURCE']=='MULTI_BR')&(data_good['final_12']==0),'PR_DUNS'])\n",
    "print(len(unresolved_duns1))"
   ]
  },
  {
   "cell_type": "code",
   "execution_count": null,
   "metadata": {},
   "outputs": [],
   "source": [
    "data_good['final_12'] = data_good['final_1']+data_good['final_2']"
   ]
  },
  {
   "cell_type": "code",
   "execution_count": null,
   "metadata": {},
   "outputs": [],
   "source": []
  },
  {
   "cell_type": "code",
   "execution_count": null,
   "metadata": {},
   "outputs": [],
   "source": [
    "print(data_good.shape)\n",
    "data_good_1 = data_good[data_good['PR_DUNS'].isin(multi_data_good['PR_DUNS'])]\n",
    "print(data_good_1.shape)\n",
    "\n",
    "data_good_1.reset_index(drop = True,inplace=True)\n",
    "\n",
    "print(data_good_1.shape)\n",
    "data_good_1 = data_good[~data_good['PR_DUNS'].isin(DELINQUENT_duns)]\n",
    "print(data_good_1.shape)\n",
    "data_good_1.reset_index(drop = True,inplace=True)\n",
    "\n",
    "print(data_good_1.shape)\n",
    "data_good_1 = data_good[~data_good['PR_DUNS'].isin(unresolved_duns1)]\n",
    "print(data_good_1.shape)\n",
    "data_good_1.reset_index(drop = True,inplace=True)\n",
    "\n",
    "\n"
   ]
  },
  {
   "cell_type": "code",
   "execution_count": null,
   "metadata": {},
   "outputs": [],
   "source": [
    "def final_decision1(row):\n",
    "    \n",
    "    if row['diff']>= 0:\n",
    "        return 'No Name Change'\n",
    "    elif (row['diff']<-5)&(row['final_1']>-1):\n",
    "        return 'Change'\n",
    "    else:\n",
    "        return 'Extra'"
   ]
  },
  {
   "cell_type": "code",
   "execution_count": null,
   "metadata": {},
   "outputs": [],
   "source": [
    "alldata_gby['decision'] = alldata_gby.apply(lambda row: final_decision(row),axis = 1)"
   ]
  },
  {
   "cell_type": "code",
   "execution_count": null,
   "metadata": {},
   "outputs": [],
   "source": [
    "alldata_gby['decision'].value_counts()"
   ]
  },
  {
   "cell_type": "code",
   "execution_count": null,
   "metadata": {},
   "outputs": [],
   "source": [
    "print(data_good_1.shape)\n",
    "data_good_1 = data_good_1[data_good_1['PR_DUNS'].isin(alldata_gby.loc[alldata_gby['decision']!='Change','PR_DUNS'])]\n",
    "print(data_good_1.shape)\n",
    "data_good_1.reset_index(drop = True,inplace=True)"
   ]
  },
  {
   "cell_type": "code",
   "execution_count": null,
   "metadata": {},
   "outputs": [],
   "source": [
    "data_good.to_csv('data_trade_move_corr1.csv',index=False)\n",
    "data_bad.to_csv('data_trade_move_bad_corr1.csv',index=False)\n",
    "data_good_1.to_csv('data_trade_move_v1_corr1.csv',index=False)\n",
    "\n"
   ]
  },
  {
   "cell_type": "code",
   "execution_count": null,
   "metadata": {},
   "outputs": [],
   "source": []
  },
  {
   "cell_type": "code",
   "execution_count": null,
   "metadata": {},
   "outputs": [],
   "source": [
    "list(data_good_1.columns)"
   ]
  }
 ],
 "metadata": {
  "kernelspec": {
   "display_name": "Python 3",
   "language": "python",
   "name": "python3"
  },
  "language_info": {
   "codemirror_mode": {
    "name": "ipython",
    "version": 3
   },
   "file_extension": ".py",
   "mimetype": "text/x-python",
   "name": "python",
   "nbconvert_exporter": "python",
   "pygments_lexer": "ipython3",
   "version": "3.5.5"
  }
 },
 "nbformat": 4,
 "nbformat_minor": 2
}
